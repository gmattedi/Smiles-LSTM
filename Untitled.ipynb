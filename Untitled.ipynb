{
 "cells": [
  {
   "cell_type": "code",
   "execution_count": 41,
   "id": "d0cff0f1-8557-4560-86cf-52da05561d5c",
   "metadata": {},
   "outputs": [],
   "source": [
    "import numpy as np\n",
    "import pandas as pd\n",
    "import torch\n",
    "\n",
    "import model\n",
    "import sample\n",
    "import train\n",
    "import utils\n",
    "\n",
    "import matplotlib.pyplot as plt\n",
    "import seaborn as sns\n",
    "sns.set()\n",
    "\n",
    "train_on_gpu = torch.cuda.is_available()\n",
    "device = 'cuda' if train_on_gpu else 'cpu'"
   ]
  },
  {
   "cell_type": "code",
   "execution_count": 6,
   "id": "03049fe0-996c-4a58-85d1-74aee92dbfad",
   "metadata": {},
   "outputs": [],
   "source": [
    "config = {\n",
    "    'n_hidden': 128,\n",
    "    'n_layers': 4,\n",
    "    'batch_size': 128,\n",
    "    'seq_length': 50,\n",
    "    'n_epochs': 25,\n",
    "    'n_epochs_finetune': 50,\n",
    "    'lr': 0.001\n",
    "}"
   ]
  },
  {
   "cell_type": "code",
   "execution_count": 33,
   "id": "dec2e064-0419-4f9c-a385-2610ae5a9952",
   "metadata": {},
   "outputs": [
    {
     "data": {
      "text/plain": [
       "CharRNN(\n",
       "  (lstm): LSTM(54, 128, num_layers=4, batch_first=True, dropout=0.2)\n",
       "  (dropout): Dropout(p=0.2, inplace=False)\n",
       "  (fc): Linear(in_features=128, out_features=54, bias=True)\n",
       ")"
      ]
     },
     "execution_count": 33,
     "metadata": {},
     "output_type": "execute_result"
    }
   ],
   "source": [
    "net = model.CharRNN(utils.chars, n_hidden=config['n_hidden'], n_layers=config['n_layers'])\n",
    "net.load_state_dict(torch.load('output/Smiles-LSTM_ChEMBL28_prior.pt', map_location=torch.device(device)))\n",
    "net = net.cuda()\n",
    "net.eval()"
   ]
  },
  {
   "cell_type": "code",
   "execution_count": 78,
   "id": "1c8aaa3d-433a-4a24-964b-f76a0d61e3ba",
   "metadata": {},
   "outputs": [
    {
     "data": {
      "text/plain": [
       "tensor([[[0., 0., 0., 0., 0., 0., 0., 0., 0., 1., 0., 0., 0., 0., 0., 0., 0.,\n",
       "          0., 0., 0., 0., 0., 0., 0., 0., 0., 0., 0., 0., 0., 0., 0., 0., 0.,\n",
       "          0., 0., 0., 0., 0., 0., 0., 0., 0., 0., 0., 0., 0., 0., 0., 0., 0.,\n",
       "          0., 0., 0.]]], device='cuda:0')"
      ]
     },
     "execution_count": 78,
     "metadata": {},
     "output_type": "execute_result"
    }
   ],
   "source": [
    "h = net.init_hidden(1)\n",
    "\n",
    "char = 'l'\n",
    "x = np.array([[net.char2int[char]]])\n",
    "x = utils.one_hot_encode(x, len(net.chars))\n",
    "\n",
    "inputs = torch.from_numpy(x).cuda()\n",
    "inputs"
   ]
  },
  {
   "cell_type": "code",
   "execution_count": 79,
   "id": "85810a7e-f5ec-442b-9a33-a47d3b277251",
   "metadata": {},
   "outputs": [
    {
     "data": {
      "text/plain": [
       "tensor([[ -9.2048,  -1.3922,  -2.6109,  -8.7640, -11.7279,  -5.0793, -13.0131,\n",
       "          -4.5540,  -3.8230,  -2.5786,  -4.7855,  -2.7826,  -2.8986,  -2.5818,\n",
       "          -2.6508,   0.5252, -20.3758,  -3.9876,  -4.3967,  -6.7593,  -8.7337,\n",
       "         -23.7198,  -8.8991,  -6.3066,  -3.5165, -12.0355,  -1.5618,  -6.5259,\n",
       "          -4.9250,  -0.1489,  -1.0026,  -5.3065, -11.6858,   4.9675, -10.0986,\n",
       "         -10.7429,  -9.4862,  -4.3231,  -8.0819, -10.4691,   5.5427,   6.1115,\n",
       "          -5.2757,  -4.8824, -14.2905,  -6.5172,  -7.7347,  -3.3341, -13.4404,\n",
       "          -9.9248,  -3.0490,  -2.6578,  -4.0283,  -4.1887]], device='cuda:0',\n",
       "       grad_fn=<AddmmBackward>)"
      ]
     },
     "execution_count": 79,
     "metadata": {},
     "output_type": "execute_result"
    }
   ],
   "source": [
    "out, h = net(inputs, h)\n",
    "out"
   ]
  },
  {
   "cell_type": "code",
   "execution_count": 80,
   "id": "dd826782-2256-45a1-8dfe-aa968cb5d591",
   "metadata": {},
   "outputs": [
    {
     "data": {
      "image/png": "[encoded data removed]",
      "text/plain": [
       "<Figure size 864x288 with 1 Axes>"
      ]
     },
     "metadata": {},
     "output_type": "display_data"
    }
   ],
   "source": [
    "plt.figure(figsize=(12,4))\n",
    "out_vals = out.cpu().detach().numpy()\n",
    "plt.bar(range(out_vals.shape[1]), out_vals[0])\n",
    "plt.xticks(range(len(net.chars)), net.chars)\n",
    "plt.show()"
   ]
  },
  {
   "cell_type": "code",
   "execution_count": null,
   "id": "1878321a-ecbc-4484-a51d-cdfbbb3b1f10",
   "metadata": {},
   "outputs": [],
   "source": []
  }
 ],
 "metadata": {
  "kernelspec": {
   "display_name": "Python 3 (ipykernel)",
   "language": "python",
   "name": "python3"
  },
  "language_info": {
   "codemirror_mode": {
    "name": "ipython",
    "version": 3
   },
   "file_extension": ".py",
   "mimetype": "text/x-python",
   "name": "python",
   "nbconvert_exporter": "python",
   "pygments_lexer": "ipython3",
   "version": "3.7.10"
  }
 },
 "nbformat": 4,
 "nbformat_minor": 5
}
